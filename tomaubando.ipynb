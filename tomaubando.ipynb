{
  "nbformat": 4,
  "nbformat_minor": 0,
  "metadata": {
    "colab": {
      "name": "tomaubando.ipynb",
      "provenance": [],
      "authorship_tag": "ABX9TyOF0L6L1/+eem+dNnZec+u0",
      "include_colab_link": true
    },
    "kernelspec": {
      "name": "python3",
      "display_name": "Python 3"
    }
  },
  "cells": [
    {
      "cell_type": "markdown",
      "metadata": {
        "id": "view-in-github",
        "colab_type": "text"
      },
      "source": [
        "<a href=\"https://colab.research.google.com/github/NguyenHa11000/CS114.K21/blob/master/tomaubando.ipynb\" target=\"_parent\"><img src=\"https://colab.research.google.com/assets/colab-badge.svg\" alt=\"Open In Colab\"/></a>"
      ]
    },
    {
      "cell_type": "code",
      "metadata": {
        "id": "lA9bqKhK6aCN",
        "colab_type": "code",
        "colab": {
          "base_uri": "https://localhost:8080/",
          "height": 67
        },
        "outputId": "8be15171-8265-4503-c55d-b0ea4f9c14bd"
      },
      "source": [
        "def ktra(a, i, g, cm):\n",
        "    for j in range(13):\n",
        "        if ((a[i][j] == 1) and (cm[j] != 0)):\n",
        "            g = g + [cm[j]]\n",
        "    return g\n",
        "t = ['An Giang', 'Đồng Tháp', 'Long An', 'Tiền Giang', 'Cần Thơ', 'Kiên Giang', 'Hậu Giang', 'Vĩnh Long', 'Bến Tre', 'Trà Vinh', 'Sóc Trăng', 'Bạc Liêu', 'Cà Mau']\n",
        "a = [[0, 1, 0, 0, 1, 1, 0, 0, 0, 0, 0, 0, 0], \n",
        "     [1, 0, 1, 1, 1, 0, 0, 1, 0, 0, 0, 0, 0], \n",
        "     [0, 1, 0, 1, 0, 0, 0, 0, 0, 0, 0, 0, 0], \n",
        "     [0, 1, 1, 0, 0, 0, 0, 1, 1, 0, 0, 0, 0], \n",
        "     [1, 1, 0, 0, 0, 1, 1, 1, 0, 0, 0, 0, 0], \n",
        "     [1, 0, 0, 0, 1, 0, 1, 0, 0, 0, 0, 1, 1], \n",
        "     [0, 0, 0, 0, 1, 1, 0, 1, 0, 0, 1, 1, 0],\n",
        "     [0, 1, 0, 1, 1, 0, 1, 0, 1, 1, 1, 0, 0],\n",
        "     [0, 0, 0, 1, 0, 0, 0, 1, 0, 1, 0, 0, 0],\n",
        "     [0, 0, 0, 0, 0, 0, 0, 1, 1, 0, 1, 0, 0],\n",
        "     [0, 0, 0, 0, 0, 0, 1, 1, 0, 1, 0, 1, 0],\n",
        "     [0, 0, 0, 0, 0, 1, 1, 0, 0, 0, 1, 0, 1],\n",
        "     [0, 0, 0, 0, 0, 1, 0, 0, 0, 0, 0, 1, 0]]\n",
        "b = [] # bang luu bac cua tinh\n",
        "for i in range(13):\n",
        "    s = 0\n",
        "    for j in a[i]:\n",
        "        s = s + j\n",
        "    b = b + [s]\n",
        "print (t)\n",
        "print(b)\n",
        "d = 1 # gia tri mau\n",
        "m = [1] # bang luu mau da dung\n",
        "cm = [0, 0, 0, 0, 0, 0, 0, 0, 0, 0, 0, 0, 0] # luu mau cua tung tinh\n",
        "for k in range(13):\n",
        "    for i in range(13):\n",
        "        g = []\n",
        "        if (b[i] == max(b)):\n",
        "            g = ktra(a, i, g, cm)\n",
        "            for x in m: \n",
        "                if x not in g:\n",
        "                    cm[i] = x\n",
        "                    break\n",
        "            if (cm[i] == 0):\n",
        "                d = d+1\n",
        "                m = m +[d]\n",
        "                cm[i] = d\n",
        "            b[i] = 0\n",
        "            break\n",
        "print(cm)"
      ],
      "execution_count": 1,
      "outputs": [
        {
          "output_type": "stream",
          "text": [
            "['An Giang', 'Đồng Tháp', 'Long An', 'Tiền Giang', 'Cần Thơ', 'Kiên Giang', 'Hậu Giang', 'Vĩnh Long', 'Bến Tre', 'Trà Vinh', 'Sóc Trăng', 'Bạc Liêu', 'Cà Mau']\n",
            "[3, 5, 2, 4, 5, 5, 5, 7, 3, 3, 4, 4, 2]\n",
            "[4, 2, 1, 3, 3, 1, 2, 1, 2, 4, 3, 4, 2]\n"
          ],
          "name": "stdout"
        }
      ]
    }
  ]
}