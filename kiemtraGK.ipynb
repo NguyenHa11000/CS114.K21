{
  "nbformat": 4,
  "nbformat_minor": 0,
  "metadata": {
    "colab": {
      "name": "kiemtraGK.ipynb",
      "provenance": [],
      "mount_file_id": "13NluXcAYwePNTzsgkNt2PlzEPoZd3Azr",
      "authorship_tag": "ABX9TyNr9CLaqbDkduJ86xG3gKfr",
      "include_colab_link": true
    },
    "kernelspec": {
      "name": "python3",
      "display_name": "Python 3"
    }
  },
  "cells": [
    {
      "cell_type": "markdown",
      "metadata": {
        "id": "view-in-github",
        "colab_type": "text"
      },
      "source": [
        "<a href=\"https://colab.research.google.com/github/NguyenHa11000/CS114.K21/blob/master/kiemtraGK.ipynb\" target=\"_parent\"><img src=\"https://colab.research.google.com/assets/colab-badge.svg\" alt=\"Open In Colab\"/></a>"
      ]
    },
    {
      "cell_type": "code",
      "metadata": {
        "id": "S9KmMzXsukPa",
        "colab_type": "code",
        "colab": {
          "base_uri": "https://localhost:8080/",
          "height": 134
        },
        "outputId": "885fed48-123e-4266-873a-6d841339a91b"
      },
      "source": [
        "import pandas as pd\n",
        "data = pd.read_csv('http://cs.uit.edu.vn/data2.txt')\n",
        "#from sklearn.linear_model import \n",
        "print(data)"
      ],
      "execution_count": 45,
      "outputs": [
        {
          "output_type": "stream",
          "text": [
            "[[1.954367e+06 1.526480e-01]\n",
            " [3.734185e+06 2.985480e-01]\n",
            " [5.839301e+06 4.604800e-01]\n",
            " ...\n",
            " [9.837364e+06 8.013940e-01]\n",
            " [9.466593e+06 7.764070e-01]\n",
            " [4.080801e+06 3.144680e-01]]\n"
          ],
          "name": "stdout"
        }
      ]
    }
  ]
}