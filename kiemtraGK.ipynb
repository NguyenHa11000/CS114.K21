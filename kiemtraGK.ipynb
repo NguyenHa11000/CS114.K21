{
  "nbformat": 4,
  "nbformat_minor": 0,
  "metadata": {
    "colab": {
      "name": "kiemtraGK.ipynb",
      "provenance": [],
      "authorship_tag": "ABX9TyOkeVWAYqqW4GU30o8G/PSF",
      "include_colab_link": true
    },
    "kernelspec": {
      "name": "python3",
      "display_name": "Python 3"
    }
  },
  "cells": [
    {
      "cell_type": "markdown",
      "metadata": {
        "id": "view-in-github",
        "colab_type": "text"
      },
      "source": [
        "<a href=\"https://colab.research.google.com/github/NguyenHa11000/CS114.K21/blob/master/kiemtraGK.ipynb\" target=\"_parent\"><img src=\"https://colab.research.google.com/assets/colab-badge.svg\" alt=\"Open In Colab\"/></a>"
      ]
    },
    {
      "cell_type": "code",
      "metadata": {
        "id": "O-a92xbdd2sr",
        "colab_type": "code",
        "colab": {
          "base_uri": "https://localhost:8080/",
          "height": 50
        },
        "outputId": "4d63cb03-fa65-43ce-ce2a-eff447aaadb7"
      },
      "source": [
        "n=input()\n",
        "n=n.lower()\n",
        "na=['a','o','y','e','u','i']\n",
        "out=''\n",
        "for i in range(len(n)):\n",
        "  if n[i] not in na :\n",
        "    if n[i-1] in na:\n",
        "      out = out + '.'+n[i]   \n",
        "    else:\n",
        "      out = out + n[i]  \n",
        "print(out)"
      ],
      "execution_count": 21,
      "outputs": [
        {
          "output_type": "stream",
          "text": [
            "Nguyeeeennnnn\n",
            "ng.nnnnn\n"
          ],
          "name": "stdout"
        }
      ]
    },
    {
      "cell_type": "code",
      "metadata": {
        "id": "KQGKLA2Aq3V1",
        "colab_type": "code",
        "colab": {}
      },
      "source": [
        "n=int(input())\n",
        "x=int(input())\n",
        "gt=[]\n",
        "d=0\n",
        "for i in range(1,n):\n",
        "#g=[]\n",
        "  for j in range(1,n):\n",
        "    if (x==(i*j)):\n",
        "      d=d+1\n",
        "  #  g = g + [i*j]\n",
        "#  gt=gt+[g]\n",
        "print(d)"
      ],
      "execution_count": 0,
      "outputs": []
    },
    {
      "cell_type": "code",
      "metadata": {
        "id": "S9KmMzXsukPa",
        "colab_type": "code",
        "colab": {}
      },
      "source": [
        "import numpy as np\n",
        "f=open('data2.csv')\n",
        "data = f.read()\n",
        "x_data = data(-1;1)\n",
        "y_lable = data(1;-1)\n"
      ],
      "execution_count": 0,
      "outputs": []
    }
  ]
}