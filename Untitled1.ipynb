{
  "nbformat": 4,
  "nbformat_minor": 0,
  "metadata": {
    "colab": {
      "name": "Untitled1.ipynb",
      "provenance": [],
      "authorship_tag": "ABX9TyMNHkLUBqIDgWZJygguqVUy",
      "include_colab_link": true
    },
    "kernelspec": {
      "name": "python3",
      "display_name": "Python 3"
    }
  },
  "cells": [
    {
      "cell_type": "markdown",
      "metadata": {
        "id": "view-in-github",
        "colab_type": "text"
      },
      "source": [
        "<a href=\"https://colab.research.google.com/github/NguyenHa11000/CS114.K21/blob/master/Untitled1.ipynb\" target=\"_parent\"><img src=\"https://colab.research.google.com/assets/colab-badge.svg\" alt=\"Open In Colab\"/></a>"
      ]
    },
    {
      "cell_type": "code",
      "metadata": {
        "id": "E7uxW_pzJNQW",
        "colab_type": "code",
        "colab": {}
      },
      "source": [
        "import bs4\n",
        "import requests\n",
        "import numpy as np\n",
        "import pandas as pd\n",
        "import matplotlib.pyplot as plt"
      ],
      "execution_count": 20,
      "outputs": []
    },
    {
      "cell_type": "code",
      "metadata": {
        "id": "rQII2m2nVDyp",
        "colab_type": "code",
        "colab": {}
      },
      "source": [
        "def get_page_content(url):\n",
        "    page = requests.get(url)\n",
        "    return bs4.BeautifulSoup(page.text,\"html.parser\")"
      ],
      "execution_count": 21,
      "outputs": []
    },
    {
      "cell_type": "code",
      "metadata": {
        "id": "K90LEnrBVetw",
        "colab_type": "code",
        "colab": {}
      },
      "source": [
        "url = 'http://cs.uit.edu.vn/data2.txt?fbclid=IwAR32exTCaFc42EtMRLQg9P2rkY2HcEncuhSdyyXsoazy4Emw3n6KwWbz-GA'\n",
        "soup = str(get_page_content(url))"
      ],
      "execution_count": 22,
      "outputs": []
    },
    {
      "cell_type": "code",
      "metadata": {
        "id": "KMKQwCjvV3JO",
        "colab_type": "code",
        "colab": {}
      },
      "source": [
        "raw_data = soup.split(\"\\n\")\n",
        "raw_data.remove(\"\")"
      ],
      "execution_count": 23,
      "outputs": []
    },
    {
      "cell_type": "code",
      "metadata": {
        "id": "siWB5rE5ZXQV",
        "colab_type": "code",
        "colab": {}
      },
      "source": [
        "d = {'x':[],'y':[]}\n",
        "for i in raw_data:\n",
        "    temp = i.split(\",\")\n",
        "    d['x'].append(int(temp[0]))\n",
        "    d['y'].append(float(temp[1]))\n",
        "data = pd.DataFrame(data = d)"
      ],
      "execution_count": null,
      "outputs": []
    },
    {
      "cell_type": "code",
      "metadata": {
        "id": "zVm7MaL4ZmKe",
        "colab_type": "code",
        "colab": {}
      },
      "source": [
        "X = np.array([data['x'].values]).T\n",
        "Y = np.array([data['y'].values]).T"
      ],
      "execution_count": 25,
      "outputs": []
    },
    {
      "cell_type": "code",
      "metadata": {
        "id": "KNZMBfMQZxyW",
        "colab_type": "code",
        "colab": {
          "base_uri": "https://localhost:8080/",
          "height": 278
        },
        "outputId": "9123c7c9-6a40-495a-8743-c8f28cf2c9c6"
      },
      "source": [
        "plt.plot(X,Y, 'ro')\n",
        "plt.show()"
      ],
      "execution_count": 26,
      "outputs": [
        {
          "output_type": "display_data",
          "data": {
            "image/png": "[encoded data removed]",
            "text/plain": [
              "<Figure size 432x288 with 1 Axes>"
            ]
          },
          "metadata": {
            "tags": [],
            "needs_background": "light"
          }
        }
      ]
    }
  ]
}